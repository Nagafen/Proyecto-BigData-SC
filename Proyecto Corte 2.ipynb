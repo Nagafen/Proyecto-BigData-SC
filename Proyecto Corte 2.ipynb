{
 "cells": [
  {
   "cell_type": "code",
   "execution_count": 106,
   "metadata": {},
   "outputs": [],
   "source": [
    "from pyspark.sql import SparkSession\n",
    "from pyspark.sql import functions as F\n",
    "spark = SparkSession.builder.appName('abc').getOrCreate()"
   ]
  },
  {
   "cell_type": "code",
   "execution_count": 2,
   "metadata": {},
   "outputs": [],
   "source": [
    "df = spark.read.option(\"inferSchema\",\"true\").csv(\"pc2/anime_cleaned.csv\",header=True)"
   ]
  },
  {
   "cell_type": "code",
   "execution_count": 3,
   "metadata": {},
   "outputs": [
    {
     "name": "stdout",
     "output_type": "stream",
     "text": [
      "root\n",
      " |-- anime_id: integer (nullable = true)\n",
      " |-- title: string (nullable = true)\n",
      " |-- title_english: string (nullable = true)\n",
      " |-- title_japanese: string (nullable = true)\n",
      " |-- title_synonyms: string (nullable = true)\n",
      " |-- image_url: string (nullable = true)\n",
      " |-- type: string (nullable = true)\n",
      " |-- source: string (nullable = true)\n",
      " |-- episodes: string (nullable = true)\n",
      " |-- status: string (nullable = true)\n",
      " |-- airing: string (nullable = true)\n",
      " |-- aired_string: string (nullable = true)\n",
      " |-- aired: string (nullable = true)\n",
      " |-- duration: string (nullable = true)\n",
      " |-- rating: string (nullable = true)\n",
      " |-- score: string (nullable = true)\n",
      " |-- scored_by: string (nullable = true)\n",
      " |-- rank: double (nullable = true)\n",
      " |-- popularity: double (nullable = true)\n",
      " |-- members: double (nullable = true)\n",
      " |-- favorites: integer (nullable = true)\n",
      " |-- background: string (nullable = true)\n",
      " |-- premiered: string (nullable = true)\n",
      " |-- broadcast: string (nullable = true)\n",
      " |-- related: string (nullable = true)\n",
      " |-- producer: string (nullable = true)\n",
      " |-- licensor: string (nullable = true)\n",
      " |-- studio: string (nullable = true)\n",
      " |-- genre: string (nullable = true)\n",
      " |-- opening_theme: string (nullable = true)\n",
      " |-- ending_theme: string (nullable = true)\n",
      " |-- duration_min: string (nullable = true)\n",
      " |-- aired_from_year: string (nullable = true)\n",
      "\n"
     ]
    }
   ],
   "source": [
    "df.printSchema()"
   ]
  },
  {
   "cell_type": "code",
   "execution_count": 6,
   "metadata": {},
   "outputs": [],
   "source": [
    "df2 = spark.read.option(\"inferSchema\",\"true\").csv(\"pc2/users_cleaned.csv\",header=True)"
   ]
  },
  {
   "cell_type": "code",
   "execution_count": 7,
   "metadata": {},
   "outputs": [
    {
     "name": "stdout",
     "output_type": "stream",
     "text": [
      "root\n",
      " |-- username: string (nullable = true)\n",
      " |-- user_id: integer (nullable = true)\n",
      " |-- user_watching: integer (nullable = true)\n",
      " |-- user_completed: integer (nullable = true)\n",
      " |-- user_onhold: integer (nullable = true)\n",
      " |-- user_dropped: integer (nullable = true)\n",
      " |-- user_plantowatch: integer (nullable = true)\n",
      " |-- user_days_spent_watching: double (nullable = true)\n",
      " |-- gender: string (nullable = true)\n",
      " |-- location: string (nullable = true)\n",
      " |-- birth_date: string (nullable = true)\n",
      " |-- access_rank: string (nullable = true)\n",
      " |-- join_date: timestamp (nullable = true)\n",
      " |-- last_online: timestamp (nullable = true)\n",
      " |-- stats_mean_score: string (nullable = true)\n",
      " |-- stats_rewatched: string (nullable = true)\n",
      " |-- stats_episodes: double (nullable = true)\n",
      "\n"
     ]
    }
   ],
   "source": [
    "df2.printSchema()"
   ]
  },
  {
   "cell_type": "markdown",
   "metadata": {},
   "source": [
    "### Analisis del csv de animes"
   ]
  },
  {
   "cell_type": "code",
   "execution_count": 21,
   "metadata": {},
   "outputs": [
    {
     "name": "stdout",
     "output_type": "stream",
     "text": [
      "+--------------------+--------------------+\n",
      "|               title|       title_english|\n",
      "+--------------------+--------------------+\n",
      "|       Inu x Boku SS|Inu X Boku Secret...|\n",
      "|    Seto no Hanayome|My Bride is a Mer...|\n",
      "|  Shugo Chara!! Doki|  Shugo Chara!! Doki|\n",
      "|       Princess Tutu|       Princess Tutu|\n",
      "| Bakuman. 3rd Season|            Bakuman.|\n",
      "| Yume-iro Pâtissière|                null|\n",
      "|        Ultra Maniac|Ultramaniac - Mag...|\n",
      "|Shakugan no Shana...|Shakugan no Shana...|\n",
      "|Nodame Cantabile:...|                null|\n",
      "|Ouran Koukou Host...|Ouran High School...|\n",
      "|  Junjou Romantica 2|   Junjo Romantica 2|\n",
      "|Kaichou wa Maid-s...|          Maid Sama!|\n",
      "|Sekaiichi Hatsukoi 2|Sekai Ichi Hatsuk...|\n",
      "|Tonari no Kaibuts...|   My Little Monster|\n",
      "|              Bleach|              Bleach|\n",
      "|             Chobits|             Chobits|\n",
      "|      Kimi ni Todoke|Kimi ni Todoke: F...|\n",
      "|  Naruto: Shippuuden|   Naruto: Shippuden|\n",
      "|             Ranma ½|             Ranma ½|\n",
      "|           Toradora!|           Toradora!|\n",
      "+--------------------+--------------------+\n",
      "only showing top 20 rows\n",
      "\n"
     ]
    }
   ],
   "source": [
    "df.select(\"title\",\"title_english\").show()"
   ]
  },
  {
   "cell_type": "code",
   "execution_count": 123,
   "metadata": {},
   "outputs": [
    {
     "name": "stdout",
     "output_type": "stream",
     "text": [
      "+---------------+\n",
      "|count(episodes)|\n",
      "+---------------+\n",
      "|           6668|\n",
      "+---------------+\n",
      "\n",
      "+------+-----------------+\n",
      "|0 - 24|       Porcentaje|\n",
      "+------+-----------------+\n",
      "|  5178|77.65446910617877|\n",
      "+------+-----------------+\n",
      "\n",
      "+--------+------------------+\n",
      "|25 - 100|        Porcentaje|\n",
      "+--------+------------------+\n",
      "|     928|13.917216556688663|\n",
      "+--------+------------------+\n",
      "\n",
      "+---------+------------------+\n",
      "|101 - 200|        Porcentaje|\n",
      "+---------+------------------+\n",
      "|       63|0.9448110377924415|\n",
      "+---------+------------------+\n",
      "\n",
      "+-----+------------------+\n",
      "|200 +|        Porcentaje|\n",
      "+-----+------------------+\n",
      "|   12|0.1799640071985603|\n",
      "+-----+------------------+\n",
      "\n"
     ]
    }
   ],
   "source": [
    "df.select(\"episodes\").agg(F.count(\"episodes\")).show()\n",
    "df.select(\"title\",\"episodes\").where(((F.col(\"episodes\") > 0) & (F.col(\"episodes\") < 24)))\\\n",
    "    .agg(F.count(\"episodes\").alias(\"0 - 24\")).withColumn(\"Porcentaje\",(F.col(\"0 - 24\")/6668)*100).show()\n",
    "df.select(\"title\",\"episodes\").where(((F.col(\"episodes\") > 25) & (F.col(\"episodes\") < 100)))\\\n",
    "    .agg(F.count(\"episodes\").alias(\"25 - 100\")).withColumn(\"Porcentaje\",(F.col(\"25 - 100\")/6668)*100).show()\n",
    "df.select(\"title\",\"episodes\").where(((F.col(\"episodes\") > 101) & (F.col(\"episodes\") < 200)))\\\n",
    "    .agg(F.count(\"episodes\").alias(\"101 - 200\")).withColumn(\"Porcentaje\",(F.col(\"101 - 200\")/6668)*100).show()\n",
    "df.select(\"title\",\"episodes\").where(((F.col(\"episodes\") > 201) & (F.col(\"episodes\") < 300)))\\\n",
    "    .agg(F.count(\"episodes\").alias(\"200 +\")).withColumn(\"Porcentaje\",(F.col(\"200 +\")/6668)*100).show()"
   ]
  },
  {
   "cell_type": "code",
   "execution_count": 121,
   "metadata": {},
   "outputs": [
    {
     "name": "stdout",
     "output_type": "stream",
     "text": [
      "+-------------+\n",
      "|count(airing)|\n",
      "+-------------+\n",
      "|         6668|\n",
      "+-------------+\n",
      "\n",
      "+-------+------------------+\n",
      "|En vivo|        Porcentaje|\n",
      "+-------+------------------+\n",
      "|    183|2.7444511097780446|\n",
      "+-------+------------------+\n",
      "\n",
      "+----------+-----------------+\n",
      "|No en vivo|       Porcentaje|\n",
      "+----------+-----------------+\n",
      "|      6481|97.19556088782244|\n",
      "+----------+-----------------+\n",
      "\n"
     ]
    }
   ],
   "source": [
    "df.select(\"airing\").agg(F.count(\"airing\")).show()\n",
    "df.select(\"title\",\"airing\").where(F.col(\"airing\") == \"True\")\\\n",
    "    .agg(F.count(\"airing\").alias(\"En vivo\")).withColumn(\"Porcentaje\",(F.col(\"En vivo\")/6668)*100).show()\n",
    "df.select(\"title\",\"airing\").where(F.col(\"airing\") == \"False\")\\\n",
    "    .agg(F.count(\"airing\").alias(\"No en vivo\")).withColumn(\"Porcentaje\",(F.col(\"No en vivo\")/6668)*100).show()"
   ]
  },
  {
   "cell_type": "code",
   "execution_count": 133,
   "metadata": {},
   "outputs": [
    {
     "name": "stdout",
     "output_type": "stream",
     "text": [
      "+-----+----+---------+\n",
      "|score|rank|scored_by|\n",
      "+-----+----+---------+\n",
      "| 9.25| 1.0|   733592|\n",
      "| 9.19| 2.0|   471398|\n",
      "| 9.15| 3.0|    71751|\n",
      "| 9.15| 4.0|    26739|\n",
      "| 9.14| 5.0|   563857|\n",
      "| 9.11| 8.0|   403377|\n",
      "| 9.11| 7.0|    92025|\n",
      "| 9.11| 6.0|    29036|\n",
      "|  9.1| 9.0|    30779|\n",
      "| 9.07|10.0|    63468|\n",
      "| 9.04|11.0|    61010|\n",
      "| 9.04|12.0|   296261|\n",
      "| 9.02|13.0|    42842|\n",
      "| 9.02|13.0|    40441|\n",
      "| 9.01|15.0|   141830|\n",
      "| 9.01|14.0|   363239|\n",
      "| 8.99|17.0|   157934|\n",
      "| 8.95|18.0|   543904|\n",
      "| 8.92|19.0|   498602|\n",
      "| 8.91|20.0|   166905|\n",
      "+-----+----+---------+\n",
      "only showing top 20 rows\n",
      "\n",
      "+-----+------------------+\n",
      "|score|        Porcentaje|\n",
      "+-----+------------------+\n",
      "|   17|0.2549490101979604|\n",
      "+-----+------------------+\n",
      "\n",
      "+-----+-----------------+\n",
      "|score|       Porcentaje|\n",
      "+-----+-----------------+\n",
      "| 6647|99.68506298740252|\n",
      "+-----+-----------------+\n",
      "\n"
     ]
    }
   ],
   "source": [
    "df.select(\"score\",\"rank\",\"scored_by\").where(F.col(\"score\") <= 9.25).orderBy(\"score\",ascending=False).show()\n",
    "df.select(\"title\",\"score\").where(F.col(\"score\") > 9.0)\\\n",
    "    .agg(F.count(\"score\").alias(\"score\")).withColumn(\"Porcentaje\",(F.col(\"score\")/6668)*100).show()\n",
    "df.select(\"title\",\"score\").where(F.col(\"score\") < 9.0)\\\n",
    "    .agg(F.count(\"score\").alias(\"score\")).withColumn(\"Porcentaje\",(F.col(\"score\")/6668)*100).show()"
   ]
  },
  {
   "cell_type": "code",
   "execution_count": null,
   "metadata": {},
   "outputs": [],
   "source": []
  }
 ],
 "metadata": {
  "kernelspec": {
   "display_name": "Python 2",
   "language": "python",
   "name": "python2"
  },
  "language_info": {
   "codemirror_mode": {
    "name": "ipython",
    "version": 2
   },
   "file_extension": ".py",
   "mimetype": "text/x-python",
   "name": "python",
   "nbconvert_exporter": "python",
   "pygments_lexer": "ipython2",
   "version": "2.7.15+"
  }
 },
 "nbformat": 4,
 "nbformat_minor": 2
}
